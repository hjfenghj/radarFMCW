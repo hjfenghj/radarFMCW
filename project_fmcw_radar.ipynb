{
 "cells": [
  {
   "cell_type": "markdown",
   "metadata": {},
   "source": [
    "## 毫米波雷达运动目标解析项目实践\n",
    "代码功能：\n",
    "\n",
    "根据设置的雷达和目标参数，生成模拟数据。\n",
    "\n",
    "采用传统信号处理的方法解析单个或多个运动目标的距离，速度和角度。\n",
    "\n",
    "\n",
    "项目说明：\n",
    "\n",
    "调整雷达和目标的参数，可视化雷达原始的信号（信号通过模拟方式生成，这部分不需要掌握）"
   ]
  },
  {
   "cell_type": "code",
   "execution_count": 200,
   "metadata": {},
   "outputs": [],
   "source": [
    "import numpy as np\n",
    "from matplotlib import pyplot as plt\n",
    "%matplotlib inline\n",
    "import math"
   ]
  },
  {
   "cell_type": "markdown",
   "metadata": {},
   "source": [
    "### 雷达参数"
   ]
  },
  {
   "cell_type": "code",
   "execution_count": 201,
   "metadata": {},
   "outputs": [],
   "source": [
    "# 雷达参数\n",
    "B = 0.5 * 1e9 # 带宽 (GHz)\n",
    "Tc = 40 * 1e-6 # Chirp时间 (s)\n",
    "S = B / Tc # 频率变化率 (GHz/s)\n",
    "fc = 79 * 1e9 # 起始频率 (GHz)\n",
    "c = 3 * 1e8 # 光速 (m/s)\n",
    "wl = c / fc # 波长 (m)\n",
    "l =  wl / 2 # 天线间距 (m) \n",
    "chirp_num = 128 # 每帧Chirp数量\n",
    "sample_num = 1024 # 每个Chirp的采样数量\n",
    "antenna_num = 8 # 天线数量\n",
    "angle_num = 180 # 角度数量\n",
    "Fs = sample_num / Tc # 数模转换频率"
   ]
  },
  {
   "cell_type": "markdown",
   "metadata": {},
   "source": [
    "### 1：计算距离和速度的分辨率和测量范围，以及角度的测量范围\n",
    "说明\n",
    "1. 距离FFT的结果具有对称性，因此只能采用一半的频谱。可以将FFT后的结果进行可视化，加以验证。\n",
    "2. 速度的值是有正负的（符号表示速度方向，0表示相对雷达静止）\n",
    "2. 角度的值是有正负的（符号表示左右，0度是雷达天线轴(Boresight)的方向）"
   ]
  },
  {
   "cell_type": "code",
   "execution_count": 202,
   "metadata": {},
   "outputs": [
    {
     "name": "stdout",
     "output_type": "stream",
     "text": [
      "速度分辨率:0.3708465189873418m/s\n",
      "距离分辨率:0.3m\n",
      "速度测量范围:[-23.734177215189874m/s,23.734177215189874m/s]\n",
      "距离测量范围:153.6m\n",
      "角度测量范围:[-1.5707963267948966,1.5707963267948966]\n"
     ]
    }
   ],
   "source": [
    "#速度分辨率\n",
    "delta_v = wl/(2*Tc*chirp_num)\n",
    "print(\"速度分辨率:{}m/s\".format(delta_v))\n",
    "#距离分辨率\n",
    "delta_r = c/(2*B)\n",
    "print(\"距离分辨率:{}m\".format(delta_r))\n",
    "#速度测量范围\n",
    "v_max = wl/(4*Tc)\n",
    "print(\"速度测量范围:[-{}m/s,{}m/s]\".format(v_max,v_max))\n",
    "#距离测量范围\n",
    "r_max = sample_num * c / (4*B)  #单位纳米\n",
    "r_max1 = B*c/(2*S)\n",
    "L = min(r_max,r_max1)\n",
    "print(\"距离测量范围:{}m\".format(L))\n",
    "#角度测量范围\n",
    "theta_max = math.asin(wl/(2*l))\n",
    "print(\"角度测量范围:[-{},{}]\".format(theta_max,theta_max))\n"
   ]
  },
  {
   "cell_type": "markdown",
   "metadata": {},
   "source": [
    "### FMCW雷达信号模拟（单目标）"
   ]
  },
  {
   "cell_type": "code",
   "execution_count": 203,
   "metadata": {},
   "outputs": [
    {
     "name": "stdout",
     "output_type": "stream",
     "text": [
      "目标距离: 50.000000米\n",
      "目标速度: 10.000000米/秒\n",
      "目标角度: 20.000000度\n",
      "0.17101007166283436\n",
      "0.21066666666666664\n",
      "0.16276041666666669\n",
      "(8, 128, 1024)\n"
     ]
    }
   ],
   "source": [
    "# 设置目标信息\n",
    "R = 50 # range of target (m)\n",
    "D = 10 # doppler of target (m/s)\n",
    "A = 20 # angle of target (degree)\n",
    "print(\"目标距离: {:f}米\".format(R))\n",
    "print(\"目标速度: {:f}米/秒\".format(D))\n",
    "print(\"目标角度: {:f}度\".format(A))\n",
    "\n",
    "# 生成模拟的雷达信号 (单目标)\n",
    "const_a = l/wl * np.sin(np.deg2rad(A))\n",
    "print(const_a)\n",
    "const_d = 2*fc/c*Tc * D\n",
    "print(const_d)\n",
    "const_r = 2*S/c/sample_num*Tc * R\n",
    "print(const_r)\n",
    "range_a = np.arange(0, antenna_num) # antenna_num = 8 天线个数\n",
    "range_d = np.arange(0, chirp_num)   # chirp_num = 128一个周期的信号发射次数\n",
    "range_r = np.arange(0, sample_num)  # sample_num=1024 单个IF信号的采样频率\n",
    "grid_adr = np.stack(np.meshgrid(range_a, range_d, range_r, indexing='ij'), axis=-1) # 返回立体格子每个格子的坐标位置，\n",
    "                                                                                    # 这里表示每个坐标点处代表的【M,N,K】信息\n",
    "signal = grid_adr * np.array([const_a, const_d, const_r])\n",
    "signal = np.cos(2*np.pi * np.sum(signal, axis=-1))\n",
    "print(signal.shape)"
   ]
  },
  {
   "cell_type": "markdown",
   "metadata": {},
   "source": [
    "### FMCW雷达信号处理"
   ]
  },
  {
   "cell_type": "code",
   "execution_count": 204,
   "metadata": {},
   "outputs": [
    {
     "name": "stdout",
     "output_type": "stream",
     "text": [
      "(8, 128, 512)\n",
      "(8, 128, 512)\n",
      "(180, 128, 512)\n",
      "(128, 512)\n"
     ]
    },
    {
     "data": {
      "image/png": "[encoded data removed]",
      "text/plain": [
       "<Figure size 432x288 with 1 Axes>"
      ]
     },
     "metadata": {
      "needs_background": "light"
     },
     "output_type": "display_data"
    },
    {
     "data": {
      "image/png": "[encoded data removed]",
      "text/plain": [
       "<Figure size 1440x720 with 1 Axes>"
      ]
     },
     "metadata": {
      "needs_background": "light"
     },
     "output_type": "display_data"
    }
   ],
   "source": [
    "# 距离FFT\n",
    "s_r = np.fft.fft(signal, axis=2)\n",
    "plt.plot(np.abs(s_r[0, 0, :])) # 验证距离FFT结果的对称性\n",
    "plt.xlabel('Range bin')\n",
    "plt.ylabel('Amplitude')\n",
    "s_r = s_r[:, :, 0:int(sample_num/2)] # 考虑到对实数做FFT后频谱的对称性，只采用前半部分信号\n",
    "print(s_r.shape)\n",
    "# 速度FFT\n",
    "s_rd = np.fft.fft(s_r, axis=1) \n",
    "print(s_rd.shape)\n",
    "# 角度FFT\n",
    "s_rda = np.fft.fft(s_rd, axis=0, n=angle_num)#置输出的角度Bin的个数\n",
    "print(s_rda.shape)\n",
    "# 可视化 Range-Doppler map\n",
    "rd_map = np.mean(np.abs(s_rda),axis=0)\n",
    "print(rd_map.shape)\n",
    "plt.figure(figsize=(20,10))\n",
    "plt.imshow(rd_map,origin='lower')\n",
    "plt.xlabel('Range bin')\n",
    "plt.ylabel('Doppler bin')\n",
    "plt.show()"
   ]
  },
  {
   "cell_type": "markdown",
   "metadata": {},
   "source": [
    "### 估计目标的距离，速度"
   ]
  },
  {
   "cell_type": "code",
   "execution_count": 205,
   "metadata": {},
   "outputs": [
    {
     "name": "stdout",
     "output_type": "stream",
     "text": [
      "目标距离: 50.100000米\n",
      "目标速度: 10.012856米/秒\n"
     ]
    }
   ],
   "source": [
    "# 在Range-Doppler map上找到range和doppler的峰值\n",
    "[d_peak, r_peak] = np.unravel_index(np.argmax(rd_map, axis=None), rd_map.shape) \n",
    "\n",
    "# 估计目标的距离\n",
    "Delta_f = r_peak / sample_num * Fs # 计算range峰值对应的频率差（range bin转换为频率）\n",
    "R_est = Delta_f * c / (2*S) \n",
    "print(\"目标距离: {:f}米\".format(R_est))\n",
    "\n",
    "# 估计目标的速度\n",
    "if d_peak >= chirp_num/2: # 频谱的后半段对应负的速度\n",
    "    d_peak -= chirp_num\n",
    "Delta_phi = d_peak / chirp_num * 2*np.pi # 计算doppler峰值对应的相位差（doppler bin转换为相位）\n",
    "D_est = Delta_phi * wl / (4*np.pi * Tc)\n",
    "print(\"目标速度: {:f}米/秒\".format(D_est))"
   ]
  },
  {
   "cell_type": "markdown",
   "metadata": {},
   "source": [
    "### 2：估计目标的角度\n",
    "说明\n",
    "1. 在Range和Doppler的峰值位置，找到Angle频谱的峰值位置\n",
    "2. 频谱的后半段对应负的角度（参考速度的处理）\n",
    "3. 越靠近90度时，角度估计越不准确"
   ]
  },
  {
   "cell_type": "code",
   "execution_count": 206,
   "metadata": {
    "scrolled": true
   },
   "outputs": [
    {
     "name": "stdout",
     "output_type": "stream",
     "text": [
      "目标角度估计为.19.735268485240717\n"
     ]
    }
   ],
   "source": [
    "a_peak = np.argmax(abs(s_rda[:,d_peak,r_peak]),axis=0)\n",
    "if a_peak>=angle_num/2:#1024为角度bin个数\n",
    "    a_peak -= angle_num\n",
    "Delta_fai = a_peak/angle_num*2*np.pi\n",
    "est_A =  np.degrees(np.arcsin(wl*Delta_fai)/(2*np.pi*l))\n",
    "print(\"目标角度估计为.{}\".format(est_A))"
   ]
  },
  {
   "cell_type": "markdown",
   "metadata": {},
   "source": [
    "### FMCW雷达信号模拟（多目标）\n",
    "### 3：估计多个目标的距离，速度和角度\n",
    "说明\n",
    "1. 生成多目标的模拟信号 \n",
    "2. 3次FFT处理，可视化Range-Doppler map\n",
    "2. 在Range-Doppler map上找到多个目标对应的峰值（可以调用库函数）\n",
    "3. 设定一个合适的噪声阈值，过滤掉假目标"
   ]
  },
  {
   "cell_type": "code",
   "execution_count": 207,
   "metadata": {},
   "outputs": [
    {
     "name": "stdout",
     "output_type": "stream",
     "text": [
      "目标1距离: 20.000000米\n",
      "目标1速度: 10.000000米/秒\n",
      "目标1角度: 20.000000度\n",
      "\n",
      "\n",
      "目标2距离: 25.000000米\n",
      "目标2速度: 20.000000米/秒\n",
      "目标2角度: 30.000000度\n",
      "\n",
      "\n",
      "(8, 128, 1024)\n"
     ]
    },
    {
     "name": "stderr",
     "output_type": "stream",
     "text": [
      "D:\\anaconda3.8\\envs\\pytorch_gpu\\lib\\site-packages\\ipykernel_launcher.py:20: DeprecationWarning: `np.float` is a deprecated alias for the builtin `float`. To silence this warning, use `float` by itself. Doing this will not modify any behavior and is safe. If you specifically wanted the numpy scalar type, use `np.float64` here.\n",
      "Deprecated in NumPy 1.20; for more details and guidance: https://numpy.org/devdocs/release/1.20.0-notes.html#deprecations\n"
     ]
    }
   ],
   "source": [
    "# 设置目标信息\n",
    "R = [20, 25] # range of targets (m)\n",
    "D = [10, 20] # doppler of targets (m/s)\n",
    "A = [20, 30] # angle of targets (degree)\n",
    "target_num = len(R)\n",
    "for i in range(target_num):\n",
    "    print(\"目标{:d}距离: {:f}米\".format(i+1, R[i]))\n",
    "    print(\"目标{:d}速度: {:f}米/秒\".format(i+1, D[i]))\n",
    "    print(\"目标{:d}角度: {:f}度\".format(i+1, A[i]))\n",
    "    print(\"\\n\")\n",
    "\n",
    "# 生成模拟的雷达信号 (多目标)\n",
    "const_a= l/wl\n",
    "const_d = 2*fc/c*Tc\n",
    "const_r = 2*S/c/sample_num*Tc\n",
    "range_a = np.arange(0, antenna_num)\n",
    "range_d = np.arange(0, chirp_num)\n",
    "range_r = np.arange(0, sample_num)\n",
    "grid_adr = np.stack(np.meshgrid(range_a, range_d, range_r, indexing='ij'), axis=-1)\n",
    "signal = np.zeros([antenna_num, chirp_num, sample_num], dtype=np.float)\n",
    "for i in range(target_num):\n",
    "    single_target = grid_adr * np.array([const_a*np.sin(np.deg2rad(A[i])), const_d*D[i], const_r*R[i]])\n",
    "    single_target = np.cos(2*np.pi * np.sum(single_target, axis=-1))\n",
    "    signal += single_target\n",
    "print(signal.shape)"
   ]
  },
  {
   "cell_type": "markdown",
   "metadata": {},
   "source": [
    "### 3-2      3次FFT处理，可视化Range-Doppler map"
   ]
  },
  {
   "cell_type": "code",
   "execution_count": 208,
   "metadata": {},
   "outputs": [
    {
     "name": "stdout",
     "output_type": "stream",
     "text": [
      "(128, 512)\n"
     ]
    },
    {
     "data": {
      "image/png": "[encoded data removed]",
      "text/plain": [
       "<Figure size 432x288 with 1 Axes>"
      ]
     },
     "metadata": {
      "needs_background": "light"
     },
     "output_type": "display_data"
    },
    {
     "data": {
      "image/png": "[encoded data removed]",
      "text/plain": [
       "<Figure size 1440x720 with 1 Axes>"
      ]
     },
     "metadata": {
      "needs_background": "light"
     },
     "output_type": "display_data"
    }
   ],
   "source": [
    "#距离FFT\n",
    "m_r = np.fft.fft(signal,axis = 2)\n",
    "plt.plot(np.abs(m_r[0, 0, :])) # 验证距离FFT结果的对称性\n",
    "plt.xlabel('Range bin')\n",
    "plt.ylabel('Amplitude')\n",
    "m_r = m_r[:,:,0:int(sample_num/2)]\n",
    "#速度FFT\n",
    "m_rd = np.fft.fft(m_r,axis = 1)\n",
    "#角度FFT\n",
    "m_rda = np.fft.fft(m_rd,axis=0,n=angle_num)\n",
    "# 可视化 Range-Doppler map\n",
    "mrd_map = np.mean(np.abs(m_rda),axis=0)\n",
    "print(mrd_map.shape)\n",
    "plt.figure(figsize=(20,10))\n",
    "plt.imshow(mrd_map,origin='lower')\n",
    "plt.xlabel('Range bin')\n",
    "plt.ylabel('Doppler bin')\n",
    "plt.show()"
   ]
  },
  {
   "cell_type": "markdown",
   "metadata": {},
   "source": [
    "### 3-3：在Range-Doppler map上找到多个目标对应的峰值（可以调用库函数）"
   ]
  },
  {
   "cell_type": "code",
   "execution_count": 209,
   "metadata": {},
   "outputs": [
    {
     "name": "stdout",
     "output_type": "stream",
     "text": [
      "[[ 27  67]\n",
      " [ 54  83]\n",
      " [ 74   0]\n",
      " [ 74  67]\n",
      " [ 74  83]\n",
      " [ 74 511]\n",
      " [101   0]\n",
      " [101  67]\n",
      " [101  83]\n",
      " [101 511]\n",
      " [127  67]\n",
      " [127  83]]\n"
     ]
    }
   ],
   "source": [
    "# 求二维数组的局部峰值\n",
    "import numpy as np\n",
    "from scipy.ndimage.filters import maximum_filter\n",
    "from scipy.ndimage.morphology import generate_binary_structure, binary_erosion\n",
    "import matplotlib.pyplot as pp\n",
    "\n",
    "def detect_peaks(nums):\n",
    "\n",
    "    neighborhood = generate_binary_structure(2,2)\n",
    "\n",
    "    local_max = maximum_filter(nums, footprint=neighborhood)==nums\n",
    "\n",
    "    background = (nums==0)\n",
    "    eroded_background = binary_erosion(background, structure=neighborhood, border_value=1)\n",
    "\n",
    "    detected_peaks = local_max ^ eroded_background\n",
    "    return detected_peaks\n",
    "\n",
    "res = np.array(np.nonzero(detect_peaks(mrd_map))).T\n",
    "# 未过滤前的峰值信息\n",
    "print(res)"
   ]
  },
  {
   "cell_type": "code",
   "execution_count": 197,
   "metadata": {},
   "outputs": [
    {
     "name": "stdout",
     "output_type": "stream",
     "text": [
      "过滤前多个目标估计为:\n",
      "预测第1个目标为:\n",
      "目标距离: 20.100000米\n",
      "目标速度: 10.012856米/秒\n",
      "目标角度估计为.19.735268485240717\n",
      "\n",
      "\n",
      "预测第2个目标为:\n",
      "目标距离: 20.100000米\n",
      "目标速度: 20.025712米/秒\n",
      "目标角度估计为.28.6480596499073\n",
      "\n",
      "\n",
      "预测第3个目标为:\n",
      "目标距离: 0.000000米\n",
      "目标速度: -20.025712米/秒\n",
      "目标角度估计为.-28.6480596499073\n",
      "\n",
      "\n",
      "预测第4个目标为:\n",
      "目标距离: 20.100000米\n",
      "目标速度: -20.025712米/秒\n",
      "目标角度估计为.31.19458819135096\n",
      "\n",
      "\n",
      "预测第5个目标为:\n",
      "目标距离: 153.300000米\n",
      "目标速度: -20.025712米/秒\n",
      "目标角度估计为.-28.6480596499073\n",
      "\n",
      "\n",
      "预测第6个目标为:\n",
      "目标距离: 0.000000米\n",
      "目标速度: -10.012856米/秒\n",
      "目标角度估计为.-19.735268485240717\n",
      "\n",
      "\n",
      "预测第7个目标为:\n",
      "目标距离: 20.100000米\n",
      "目标速度: -10.012856米/秒\n",
      "目标角度估计为.-19.735268485240717\n",
      "\n",
      "\n",
      "预测第8个目标为:\n",
      "目标距离: 153.300000米\n",
      "目标速度: -10.012856米/秒\n",
      "目标角度估计为.-19.735268485240717\n",
      "\n",
      "\n",
      "预测第9个目标为:\n",
      "目标距离: 20.100000米\n",
      "目标速度: -0.370847米/秒\n",
      "目标角度估计为.33.10449031394753\n",
      "\n",
      "\n"
     ]
    }
   ],
   "source": [
    "# 利用峰值来求估计的目标\n",
    "def DR(m_rda,data):\n",
    "    \n",
    "    for i in range(data.shape[0]):\n",
    "        d_peak = data[i][0]\n",
    "        r_peak = data[i][1]\n",
    "        print(\"预测第{}个目标为:\".format(i+1))\n",
    "        # 估计目标的距离\n",
    "        Delta_f = r_peak / sample_num * Fs # 计算range峰值对应的频率差（range bin转换为频率）\n",
    "        R_est = Delta_f * c / (2*S) \n",
    "        print(\"目标距离: {:f}米\".format(R_est))\n",
    "\n",
    "        # 估计目标的速度\n",
    "        if d_peak >= chirp_num/2: # 频谱的后半段对应负的速度\n",
    "            d_peak -= chirp_num\n",
    "        Delta_phi = d_peak / chirp_num * 2*np.pi # 计算doppler峰值对应的相位差（doppler bin转换为相位）\n",
    "        D_est = Delta_phi * wl / (4*np.pi * Tc)\n",
    "        print(\"目标速度: {:f}米/秒\".format(D_est))\n",
    "\n",
    "        a_peak = np.argmax(abs(m_rda[:,d_peak,r_peak]),axis=0)\n",
    "        if a_peak>=angle_num/2:\n",
    "            a_peak -= angle_num\n",
    "        Delta_fai = a_peak/angle_num*2*np.pi\n",
    "        est_A =  np.degrees(np.arcsin(wl*Delta_fai)/(2*np.pi*l))\n",
    "        print(\"目标角度估计为.{}\".format(est_A))\n",
    "        print(\"\\n\")\n",
    "    \n",
    "print(\"过滤前多个目标估计为:\")\n",
    "DR(m_rda,res)"
   ]
  },
  {
   "cell_type": "markdown",
   "metadata": {},
   "source": [
    "### 3-4    设定一个合适的噪声阈值，过滤掉假目标"
   ]
  },
  {
   "cell_type": "code",
   "execution_count": 210,
   "metadata": {},
   "outputs": [
    {
     "name": "stdout",
     "output_type": "stream",
     "text": [
      "CFAR算法过滤噪声以后得到的峰值:[[27, 67], [54, 83]]\n",
      "过滤多个目标估计为:\n",
      "预测第1个目标为:\n",
      "目标距离: 20.100000米\n",
      "目标速度: 10.012856米/秒\n",
      "目标角度估计为.19.735268485240717\n",
      "\n",
      "\n",
      "预测第2个目标为:\n",
      "目标距离: 24.900000米\n",
      "目标速度: 20.025712米/秒\n",
      "目标角度估计为.28.6480596499073\n",
      "\n",
      "\n"
     ]
    }
   ],
   "source": [
    "#对待处理点除去保护单元以外的估计单元元素求均值\n",
    "def get_mean(raw_data,start,end,neig,alpha):\n",
    "    # raw_data代表原始的Range-Doppler map\n",
    "    # start代表求邻居均值的左上角起始位置\n",
    "    # end代表求邻居均值的右下角起始位置\n",
    "    # neig代表估计窗口的大小\n",
    "    # alpha为比例因子\n",
    "    \n",
    "    count = 0\n",
    "    sum = 0\n",
    "    while neig:\n",
    "        for j in range(start[1],end[1]):\n",
    "            sum += raw_data[start[0]][j]\n",
    "        for i in range(start[0],end[0]):\n",
    "            sum += raw_data[i][end[1]]\n",
    "        for j in range(end[1],start[1],-1):\n",
    "            sum += raw_data[end[0]][j]\n",
    "        for i in range(end[0],start[0],-1):\n",
    "            sum += raw_data[i][start[1]]\n",
    "        neig -= 1\n",
    "        count =  count+(end[1]-start[1]+1)*4-4\n",
    "        start[0] += 1\n",
    "        start[1] += 1\n",
    "        end[0] -= 1\n",
    "        end[1] -= 1\n",
    "    return sum/count*alpha\n",
    "        \n",
    "        \n",
    "    \n",
    "def filter(raw_data,raw_idx,protect,neig,alpha):\n",
    "    # raw_data是原始的多目标Range-Doppler map\n",
    "    # raw_idx是原始map中求出的所有目标峰值,包括噪声点\n",
    "    # protect代表CFAR算法中待处理单元周围保护单元的长度\n",
    "    # neig代表CFAR算法中待处理单元除去保护单元以外估计窗口的长度\n",
    "    # alpha比例因子\n",
    "    filter_res = []\n",
    "    C,R = raw_data.shape[0],raw_data.shape[1]\n",
    "    # 当待处理的目标的估计窗口完全存在的时候\n",
    "    for i in range(raw_idx.shape[0]):\n",
    "        min_x = raw_idx[i][0]-protect-neig\n",
    "        min_y = raw_idx[i][1]-protect-neig\n",
    "        max_x = raw_idx[i][0]+protect+neig\n",
    "        max_y = raw_idx[i][1]+protect+neig\n",
    "        if min_x >=0 and max_x < C and min_y >=0 and max_y < R:\n",
    "            cur_val = raw_data[raw_idx[i][0]][raw_idx[i][1]]\n",
    "            neig_val = get_mean(raw_data,[min_x,min_y],[max_x,max_y],neig,alpha)\n",
    "            if(cur_val > neig_val):\n",
    "                filter_res.append([raw_idx[i][0],raw_idx[i][1]])\n",
    "    return filter_res\n",
    "                \n",
    "          \n",
    "filter_res = filter(mrd_map,res,2,2,20)\n",
    "print(\"CFAR算法过滤噪声以后得到的峰值:{}\".format(filter_res))\n",
    "filter_res = np.array(filter_res)\n",
    "print(\"过滤多个目标估计为:\")\n",
    "DR(m_rda,filter_res)"
   ]
  },
  {
   "cell_type": "markdown",
   "metadata": {},
   "source": [
    "### 4：调整雷达参数，区分距离或速度相近的目标\n",
    "任务1：区分距离为20.0米和20.2米的目标（速度和角度随意）\n",
    "\n",
    "任务2：区分速度为10.2米/秒和10.4米/秒的目标（距离和角度随意）\n",
    "\n",
    "说明\n",
    "1. 按照作业3中的流程生成多个目标的模拟数据，并解析它们的距离和速度。\n",
    "2. 调整雷达参数，使得任务1中的目标在距离上可以区分\n",
    "3. 调整雷达参数，使得任务2中的目标在速度上可以区分。"
   ]
  },
  {
   "cell_type": "code",
   "execution_count": 231,
   "metadata": {},
   "outputs": [
    {
     "name": "stdout",
     "output_type": "stream",
     "text": [
      "目标1距离: 20.000000米\n",
      "目标1速度: 10.200000米/秒\n",
      "目标1角度: 20.000000度\n",
      "\n",
      "\n",
      "目标2距离: 25.000000米\n",
      "目标2速度: 10.400000米/秒\n",
      "目标2角度: 30.000000度\n",
      "\n",
      "\n"
     ]
    },
    {
     "name": "stderr",
     "output_type": "stream",
     "text": [
      "D:\\anaconda3.8\\envs\\pytorch_gpu\\lib\\site-packages\\ipykernel_launcher.py:23: DeprecationWarning: `np.float` is a deprecated alias for the builtin `float`. To silence this warning, use `float` by itself. Doing this will not modify any behavior and is safe. If you specifically wanted the numpy scalar type, use `np.float64` here.\n",
      "Deprecated in NumPy 1.20; for more details and guidance: https://numpy.org/devdocs/release/1.20.0-notes.html#deprecations\n"
     ]
    },
    {
     "name": "stdout",
     "output_type": "stream",
     "text": [
      "(8, 256, 1024)\n"
     ]
    }
   ],
   "source": [
    "# 设置目标信息\n",
    "B = 0.5*1e9\n",
    "S = B / Tc\n",
    "chirp_num = 256\n",
    "R = [20, 25] # range of targets (m)\n",
    "D = [10.2, 10.4] # doppler of targets (m/s)\n",
    "A = [20, 30] # angle of targets (degree)\n",
    "target_num = len(R)\n",
    "for i in range(target_num):\n",
    "    print(\"目标{:d}距离: {:f}米\".format(i+1, R[i]))\n",
    "    print(\"目标{:d}速度: {:f}米/秒\".format(i+1, D[i]))\n",
    "    print(\"目标{:d}角度: {:f}度\".format(i+1, A[i]))\n",
    "    print(\"\\n\")\n",
    "\n",
    "# 生成模拟的雷达信号 (多目标)\n",
    "const_a= l/wl\n",
    "const_d = 2*fc/c*Tc\n",
    "const_r = 2*S/c/sample_num*Tc\n",
    "range_a = np.arange(0, antenna_num)\n",
    "range_d = np.arange(0, chirp_num)\n",
    "range_r = np.arange(0, sample_num)\n",
    "grid_adr = np.stack(np.meshgrid(range_a, range_d, range_r, indexing='ij'), axis=-1)\n",
    "signal = np.zeros([antenna_num, chirp_num, sample_num], dtype=np.float)\n",
    "for i in range(target_num):\n",
    "    single_target = grid_adr * np.array([const_a*np.sin(np.deg2rad(A[i])), const_d*D[i], const_r*R[i]])\n",
    "    single_target = np.cos(2*np.pi * np.sum(single_target, axis=-1))\n",
    "    signal += single_target\n",
    "print(signal.shape)"
   ]
  },
  {
   "cell_type": "code",
   "execution_count": 232,
   "metadata": {},
   "outputs": [
    {
     "name": "stdout",
     "output_type": "stream",
     "text": [
      "(256, 512)\n"
     ]
    },
    {
     "data": {
      "image/png": "[encoded data removed]",
      "text/plain": [
       "<Figure size 432x288 with 1 Axes>"
      ]
     },
     "metadata": {
      "needs_background": "light"
     },
     "output_type": "display_data"
    },
    {
     "data": {
      "image/png": "[encoded data removed]",
      "text/plain": [
       "<Figure size 1440x720 with 1 Axes>"
      ]
     },
     "metadata": {
      "needs_background": "light"
     },
     "output_type": "display_data"
    }
   ],
   "source": [
    "#距离FFT\n",
    "m_r = np.fft.fft(signal,axis = 2)\n",
    "plt.plot(np.abs(m_r[0, 0, :])) # 验证距离FFT结果的对称性\n",
    "plt.xlabel('Range bin')\n",
    "plt.ylabel('Amplitude')\n",
    "m_r = m_r[:,:,0:int(sample_num/2)]\n",
    "#速度FFT\n",
    "m_rd = np.fft.fft(m_r,axis = 1)\n",
    "#角度FFT\n",
    "m_rda = np.fft.fft(m_rd,axis=0,n=angle_num)\n",
    "# 可视化 Range-Doppler map\n",
    "mrd_map = np.mean(np.abs(m_rda),axis=0)\n",
    "print(mrd_map.shape)\n",
    "plt.figure(figsize=(20,10))\n",
    "plt.imshow(mrd_map,origin='lower')\n",
    "plt.xlabel('Range bin')\n",
    "plt.ylabel('Doppler bin')\n",
    "plt.show()"
   ]
  },
  {
   "cell_type": "code",
   "execution_count": 234,
   "metadata": {},
   "outputs": [
    {
     "name": "stdout",
     "output_type": "stream",
     "text": [
      "CFAR算法过滤噪声以后得到的峰值:[[55, 67], [56, 83]]\n",
      "过滤多个目标估计为:\n",
      "预测第1个目标为:\n",
      "目标距离: 20.100000米\n",
      "目标速度: 10.198279米/秒\n",
      "目标角度估计为.19.735268485240717\n",
      "\n",
      "\n",
      "预测第2个目标为:\n",
      "目标距离: 24.900000米\n",
      "目标速度: 10.383703米/秒\n",
      "目标角度估计为.28.6480596499073\n",
      "\n",
      "\n"
     ]
    }
   ],
   "source": [
    "res = np.array(np.nonzero(detect_peaks(mrd_map))).T\n",
    "filter_res = filter(mrd_map,res,2,2,20)\n",
    "print(\"CFAR算法过滤噪声以后得到的峰值:{}\".format(filter_res))\n",
    "filter_res = np.array(filter_res)\n",
    "print(\"过滤多个目标估计为:\")\n",
    "DR(m_rda,filter_res)"
   ]
  },
  {
   "cell_type": "code",
   "execution_count": null,
   "metadata": {},
   "outputs": [],
   "source": []
  },
  {
   "cell_type": "code",
   "execution_count": null,
   "metadata": {},
   "outputs": [],
   "source": []
  },
  {
   "cell_type": "code",
   "execution_count": null,
   "metadata": {},
   "outputs": [],
   "source": []
  }
 ],
 "metadata": {
  "kernelspec": {
   "display_name": "Python 3 (ipykernel)",
   "language": "python",
   "name": "python3"
  },
  "language_info": {
   "codemirror_mode": {
    "name": "ipython",
    "version": 3
   },
   "file_extension": ".py",
   "mimetype": "text/x-python",
   "name": "python",
   "nbconvert_exporter": "python",
   "pygments_lexer": "ipython3",
   "version": "3.7.0"
  }
 },
 "nbformat": 4,
 "nbformat_minor": 4
}
